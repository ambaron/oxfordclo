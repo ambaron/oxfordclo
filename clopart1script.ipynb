# import functions

from pyspark.sql import SQLContext, Row
from dateutil.parser import parse
from datetime import datetime
from pyspark import SparkContext, SparkConf
from numpy import array
from scipy import spatial
sqlContext = SQLContext(sc)

from pyspark.mllib.linalg import Vectors
from pyspark.mllib.stat import Statistics

import numpy as np
import pandas as pd

# ASSUMPTIONS: 
# 1. Strat Timestamp Year used to group records by year 
# 2. Taxi records are number of unique trips in dataset
# 3. Count of records for year is based on year in Trip End Timestamp

# configure Jupytrer to produce nice tab completion
%config IPCompleter.greedy=True

# Read in taxi data file
df = sqlContext.read.csv('s3a://azizahclobucket/chictaxi.csv',header='true', inferSchema='true')
df.show(5)

# Part 1 Qn 1 - count number of taxi records

df.createOrReplaceTempView("Taxis")
df2 = sqlContext.sql("select (count('Trip ID')) as taxirecords from Taxis")
df2.show()

# tidy column names/ drop non-required columns

dfclean = df.select(df["Trip ID"].name("tripId"), df["Taxi ID"].name("taxi"), 
                    df["Trip Start Timestamp"].name("starttime"), 
                    df["Trip Seconds"].name("seconds"), df["Trip Miles"].name("miles"), df["Fare"], df["Tips"],
                    df["Pickup Centroid Latitude"].name("pulat"), df["Pickup Centroid Longitude"].name("pulong"),
                    df["Dropoff Centroid Latitude"].name("dolat"), df["Dropoff Centroid Longitude"].name("dolong"))
                                  
dfclean.show(5)

# Create year column from Trip Start Timestamp 

# First reformat timestamps from string to timestamp format

from pyspark.sql.functions import *

dfclean.createOrReplaceTempView("cleantime")
dftime = sqlContext.sql("select *, to_timestamp(starttime, 'MM/dd/yyyy hh:mm:ss a') as newtime \
                                                            from cleantime")
dftime.show(5)

# Part 1 Qn 1. count number of taxi records by year

# First, create year and date columns
from pyspark.sql.functions import *

dftime.createOrReplaceTempView("newtotal")
dfyear = sqlContext.sql("select  *, year(newtime) as year, to_date(newtime) as newdate from newtotal")
dfyear.show(5)


dfyear.createOrReplaceTempView("yeartotal")
tripyrcount = sqlContext.sql("select year , count(tripId) as totaltrips \
                             from yeartotal group by year")                     
tripyrcount.show(10)

# Part 1 Qn 2 : Calculate average speed in mph
avgspeed = sqlContext.sql("select *, ((miles / seconds)* 3600) as speed from yeartotal")
avgspeed.show(5)

# Part 1 Qn 2 : count bad records 
avgspeed.createOrReplaceTempView("goodrecs") 
badrecords = sqlContext.sql("select (count(tripId)) as badrecords from goodrecs  \
                     where (seconds < 60 or speed > 100 or miles > 1000 or fare > 2000)")
badrecords.show()

# Part 1. Qn2 : count number of good records by year
goodcount = sqlContext.sql("select year, (count(tripId)) as goodrecords from goodrecs \
                         WHERE tripId NOT IN (select tripId from goodrecs  \
                                            where (seconds < 60 or speed > 100 or miles > 1000 or fare > 2000))  \
                                group by year")
goodcount.show(5) 

# Part 1. Qn2 : calculate percentage of good records
dfgoodpercent = sqlContext.sql("select (count(tripId)) as goodreccount,\
                                       (count(tripId))* 100 / (select (count(tripId)) from goodrecs) as goodpercent\
                               from goodrecs \
                               where tripId NOT IN (select tripId from goodrecs \
                               where (seconds < 60 or speed > 100 or miles > 1000 or fare > 2000))")
dfgoodpercent.show() 

# Part 1. Qn2 : Create good dataset
gooddata = sqlContext.sql("select * from goodrecs \
                            where tripId NOT IN (select tripId from goodrecs \
                                where (seconds < 60 or speed > 100 or miles > 1000 or fare > 2000 ))")
gooddata.show(5)  

# Part 1 Qn 3: Calculate average daily revenue for each taxi in 2019 
gooddata.createOrReplaceTempView("dailyrev")
avgrev2019 = sqlContext.sql("select year, taxi, (sum(Fare + Tips)/count(distinct newdate)) as avgrevenue  \
                          from dailyrev where year in ('2019') group by year, taxi \
                          order by avgrevenue desc")

avgrev2019.show(10)

# Part 1 Qn 3: Calculate average daily revenue for each taxi in 2020
avgrev2020 = sqlContext.sql("select year, taxi, (sum(Fare + Tips)/count(distinct newdate)) as avgrevenue \
                          from dailyrev where year in ('2020') group by year, taxi \
                          order by avgrevenue desc")
avgrev2020.show(10)

# Part 1 Qn 3: create dataframe containing just top ten traxis from 2019
toptaxis2019 = avgrev2019.limit(10)
toptaxis2019.show()

# Part 1 Qn 3: Show 2020 average daily revenue for taxis with the top ten average daily revenue in 2019
toptaxis2019.createOrReplaceTempView("topten2019")
avgrev2020.createOrReplaceTempView("dailyrev2020")
toptaxi2020rev = sqlContext.sql("SELECT *  from dailyrev2020  \
                                 INNER JOIN topten2019 ON topten2019.taxi = dailyrev2020.taxi")
toptaxi2020rev.show(10)

# Part 1 Qn 4: Identify the most succssful taxi in 2019 based on total revenue (Fare + Tips) for the whole year
gooddata.createOrReplaceTempView("total")
toprev2019 = sqlContext.sql("select year, taxi, (sum(Fare + Tips)) as toprevenue from total  \
                            where year in ('2019') group by year, taxi   \
                            order by toprevenue desc")
toprev2019.head(1)

# Part 1 Qn 5 Determine new starthour periods where pickup hour is different from drop off hour; assign hour period 
# to the period where the midpoint of journey happened

import pyspark.sql.functions as F

# Add half of trip duration seconds to timestamp to determine journey midpoint time
qn5data = gooddata.withColumn \
            ('derivedtime', (F.unix_timestamp("newtime") + F.col("seconds")/2).cast('timestamp'))
qn5data.show(5)

# Add required hour to dataset
qn5data.createOrReplaceTempView("qn5clean")
qn5hour = sqlContext.sql("select *, hour(derivedtime) as hour from qn5clean order by hour desc")                          
qn5hour.show(10)

# drop non-required columns from qn5data dataframe
qn5drop = qn5hour.drop("derivedtime", "startime")
qn5drop.show(10)

# Part 1 Qn 5a: Calculate average speed of taxis during each hourly period in 2019 and 2020

# First remove records with null hour and null speed
qn5dropnull = qn5drop.filter(qn5drop.hour.isNotNull()).filter(qn5drop.speed.isNotNull())

qn5dropnull.createOrReplaceTempView("qn5a")
avghrspeed = sqlContext.sql("select year, hour, (avg(speed)) as avgmph from qn5a  \
                            where year in ('2019', '2020') group by year, hour \
                            order by year, hour")
avghrspeed.show(50)

# Part 1 Qn 5b: Determine hour in which drivers earn the most fares in 2019
fare2019 = sqlContext.sql("select year, hour, (sum(Fare)) as totalfare from qn5a  \
                            where year in ('2019') group by year, hour \
                            order by year, totalfare desc")
fare2019.show(50)

# Part 1 Qn 5b: Determine hour in which drivers earn the most fares in 2020
fare2020 = sqlContext.sql("select year, hour, (sum(Fare)) as totalfare from qn5a  \
                            where year in ('2020') group by year, hour \
                            order by year, totalfare desc")
fare2020.show(50)

# Part 1 Qn 5c: Determine hour in which drivers earn the most tips in 2019 and 2020
maxtips = sqlContext.sql("select year, hour, (sum(Tips)) as totaltips from qn5a  \
                            where year in ('2019', '2020') group by year, hour \
                            order by year,totaltips desc")
maxtips.show(50)

# Part1  Qn 6:  Calculate overall percentage of tips in 2019
tippercent = sqlContext.sql("select year, ((sum(Tips) * 100)/ sum(Fare)) as tippercent from total \
                            where year in ('2019') group by year ")
tippercent.show()

# Part1  Qn 6:  Identify top ten trips with the best tip per distance travelled in 2019
tippermile = sqlContext.sql("select year, tripId, Fare, Tips, miles, (Tips/miles) as tipmile from total \
                            where year in ('2019')   \
                            order by year, tipmile desc")
tippermile.show(10)

# Part1  Qn 6:  Calculate average tip percentage by month for both 2019 and 2020 

avgtip = sqlContext.sql("select year, month(newtime) as month, \
                            ((sum(Tips) * 100)/ sum(Fare)) as avgtippercent \
                            from total \
                            where year in ('2019', '2020') group by year, month(newtime) \
                            order by year, month(newtime)")
avgtip.show(24)